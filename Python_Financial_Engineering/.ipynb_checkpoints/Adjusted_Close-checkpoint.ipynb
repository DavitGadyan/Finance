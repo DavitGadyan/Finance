{
 "cells": [
  {
   "cell_type": "code",
   "execution_count": 1,
   "metadata": {
    "colab": {
     "base_uri": "https://localhost:8080/",
     "height": 34
    },
    "id": "X5swhlmQ_WBp",
    "outputId": "7b161152-fe8e-4d0a-882e-a835700cd700"
   },
   "outputs": [
    {
     "name": "stdout",
     "output_type": "stream",
     "text": [
      "rm: cannot remove 'sp500sub.csv': No such file or directory\r\n"
     ]
    }
   ],
   "source": [
    "!rm sp500sub.csv"
   ]
  },
  {
   "cell_type": "code",
   "execution_count": 2,
   "metadata": {
    "colab": {
     "base_uri": "https://localhost:8080/",
     "height": 224
    },
    "id": "8nLK63_v6c8X",
    "outputId": "b87436e1-13e5-4e37-b068-f14ae31d020f"
   },
   "outputs": [
    {
     "name": "stdout",
     "output_type": "stream",
     "text": [
      "--2020-12-31 14:56:59--  https://lazyprogrammer.me/course_files/sp500sub.csv\n",
      "Resolving lazyprogrammer.me (lazyprogrammer.me)... 104.31.81.48, 104.31.80.48, 172.67.213.166, ...\n",
      "Connecting to lazyprogrammer.me (lazyprogrammer.me)|104.31.81.48|:443... connected.\n",
      "HTTP request sent, awaiting response... 200 OK\n",
      "Length: 25473876 (24M) [text/csv]\n",
      "Saving to: ‘sp500sub.csv’\n",
      "\n",
      "sp500sub.csv        100%[===================>]  24.29M  6.27MB/s    in 4.9s    \n",
      "\n",
      "2020-12-31 14:57:05 (4.91 MB/s) - ‘sp500sub.csv’ saved [25473876/25473876]\n",
      "\n"
     ]
    }
   ],
   "source": [
    "!wget -nc https://lazyprogrammer.me/course_files/sp500sub.csv"
   ]
  },
  {
   "cell_type": "code",
   "execution_count": 3,
   "metadata": {
    "id": "Ew6jmy5f6owZ"
   },
   "outputs": [],
   "source": [
    "import pandas as pd"
   ]
  },
  {
   "cell_type": "code",
   "execution_count": 4,
   "metadata": {
    "id": "_cpnr0c265Ew"
   },
   "outputs": [],
   "source": [
    "df = pd.read_csv('sp500sub.csv', index_col='Date', parse_dates=True)"
   ]
  },
  {
   "cell_type": "code",
   "execution_count": 5,
   "metadata": {
    "colab": {
     "base_uri": "https://localhost:8080/",
     "height": 235
    },
    "id": "AeRIBHnf7A5F",
    "outputId": "f9de424c-cc3f-4ad6-d041-8b2794298f60"
   },
   "outputs": [
    {
     "data": {
      "text/html": [
       "<div>\n",
       "<style scoped>\n",
       "    .dataframe tbody tr th:only-of-type {\n",
       "        vertical-align: middle;\n",
       "    }\n",
       "\n",
       "    .dataframe tbody tr th {\n",
       "        vertical-align: top;\n",
       "    }\n",
       "\n",
       "    .dataframe thead th {\n",
       "        text-align: right;\n",
       "    }\n",
       "</style>\n",
       "<table border=\"1\" class=\"dataframe\">\n",
       "  <thead>\n",
       "    <tr style=\"text-align: right;\">\n",
       "      <th></th>\n",
       "      <th>Open</th>\n",
       "      <th>High</th>\n",
       "      <th>Low</th>\n",
       "      <th>Close</th>\n",
       "      <th>Adj Close</th>\n",
       "      <th>Volume</th>\n",
       "      <th>Name</th>\n",
       "    </tr>\n",
       "    <tr>\n",
       "      <th>Date</th>\n",
       "      <th></th>\n",
       "      <th></th>\n",
       "      <th></th>\n",
       "      <th></th>\n",
       "      <th></th>\n",
       "      <th></th>\n",
       "      <th></th>\n",
       "    </tr>\n",
       "  </thead>\n",
       "  <tbody>\n",
       "    <tr>\n",
       "      <th>2010-01-04</th>\n",
       "      <td>9.22</td>\n",
       "      <td>9.51</td>\n",
       "      <td>9.17</td>\n",
       "      <td>9.50</td>\n",
       "      <td>9.50</td>\n",
       "      <td>1865400.0</td>\n",
       "      <td>INCY</td>\n",
       "    </tr>\n",
       "    <tr>\n",
       "      <th>2010-01-05</th>\n",
       "      <td>9.51</td>\n",
       "      <td>10.29</td>\n",
       "      <td>9.45</td>\n",
       "      <td>10.27</td>\n",
       "      <td>10.27</td>\n",
       "      <td>7608900.0</td>\n",
       "      <td>INCY</td>\n",
       "    </tr>\n",
       "    <tr>\n",
       "      <th>2010-01-06</th>\n",
       "      <td>10.38</td>\n",
       "      <td>11.09</td>\n",
       "      <td>10.35</td>\n",
       "      <td>11.00</td>\n",
       "      <td>11.00</td>\n",
       "      <td>8046700.0</td>\n",
       "      <td>INCY</td>\n",
       "    </tr>\n",
       "    <tr>\n",
       "      <th>2010-01-07</th>\n",
       "      <td>11.00</td>\n",
       "      <td>11.06</td>\n",
       "      <td>10.62</td>\n",
       "      <td>10.82</td>\n",
       "      <td>10.82</td>\n",
       "      <td>3680300.0</td>\n",
       "      <td>INCY</td>\n",
       "    </tr>\n",
       "    <tr>\n",
       "      <th>2010-01-08</th>\n",
       "      <td>10.82</td>\n",
       "      <td>11.00</td>\n",
       "      <td>10.75</td>\n",
       "      <td>10.94</td>\n",
       "      <td>10.94</td>\n",
       "      <td>1529300.0</td>\n",
       "      <td>INCY</td>\n",
       "    </tr>\n",
       "  </tbody>\n",
       "</table>\n",
       "</div>"
      ],
      "text/plain": [
       "             Open   High    Low  Close  Adj Close     Volume  Name\n",
       "Date                                                              \n",
       "2010-01-04   9.22   9.51   9.17   9.50       9.50  1865400.0  INCY\n",
       "2010-01-05   9.51  10.29   9.45  10.27      10.27  7608900.0  INCY\n",
       "2010-01-06  10.38  11.09  10.35  11.00      11.00  8046700.0  INCY\n",
       "2010-01-07  11.00  11.06  10.62  10.82      10.82  3680300.0  INCY\n",
       "2010-01-08  10.82  11.00  10.75  10.94      10.94  1529300.0  INCY"
      ]
     },
     "execution_count": 5,
     "metadata": {},
     "output_type": "execute_result"
    }
   ],
   "source": [
    "df.head()"
   ]
  },
  {
   "cell_type": "code",
   "execution_count": null,
   "metadata": {
    "colab": {
     "base_uri": "https://localhost:8080/",
     "height": 580
    },
    "id": "zBTCxccs7jgD",
    "outputId": "10eb4753-af9b-4c61-c9dd-1d428cea4e9e"
   },
   "outputs": [],
   "source": [
    "goog = df[df['Name'] == 'GOOG']\n",
    "goog[['Close', 'Adj Close']].plot(figsize=(10, 10))"
   ]
  },
  {
   "cell_type": "code",
   "execution_count": null,
   "metadata": {
    "colab": {
     "base_uri": "https://localhost:8080/",
     "height": 580
    },
    "id": "2Dg6wfOY_g7n",
    "outputId": "1e2ce3ab-5b88-4e77-913c-6784b3a9f3eb"
   },
   "outputs": [],
   "source": [
    "aapl = df[df['Name'] == 'AAPL']\n",
    "aapl[['Close', 'Adj Close']].plot(figsize=(10, 10))"
   ]
  },
  {
   "cell_type": "code",
   "execution_count": null,
   "metadata": {
    "colab": {
     "base_uri": "https://localhost:8080/",
     "height": 235
    },
    "id": "nTVLa1BPufbI",
    "outputId": "d0a84c1a-ae34-42e2-a890-bf1391b55d95"
   },
   "outputs": [],
   "source": [
    "aapl.tail()"
   ]
  },
  {
   "cell_type": "code",
   "execution_count": null,
   "metadata": {},
   "outputs": [],
   "source": []
  }
 ],
 "metadata": {
  "colab": {
   "name": "Adjusted Close.ipynb",
   "provenance": []
  },
  "kernelspec": {
   "display_name": "Python 3",
   "language": "python",
   "name": "python3"
  },
  "language_info": {
   "codemirror_mode": {
    "name": "ipython",
    "version": 3
   },
   "file_extension": ".py",
   "mimetype": "text/x-python",
   "name": "python",
   "nbconvert_exporter": "python",
   "pygments_lexer": "ipython3",
   "version": "3.7.4"
  }
 },
 "nbformat": 4,
 "nbformat_minor": 1
}
